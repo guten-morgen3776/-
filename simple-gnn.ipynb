{
 "cells": [
  {
   "cell_type": "code",
   "execution_count": 1,
   "id": "56bc6d7b",
   "metadata": {
    "_cell_guid": "b1076dfc-b9ad-4769-8c92-a6c4dae69d19",
    "_uuid": "8f2839f25d086af736a60e9eeb907d3b93b6e0e5",
    "execution": {
     "iopub.execute_input": "2025-10-08T08:58:25.511790Z",
     "iopub.status.busy": "2025-10-08T08:58:25.511543Z",
     "iopub.status.idle": "2025-10-08T08:58:26.928087Z",
     "shell.execute_reply": "2025-10-08T08:58:26.927167Z"
    },
    "papermill": {
     "duration": 1.422357,
     "end_time": "2025-10-08T08:58:26.929330",
     "exception": false,
     "start_time": "2025-10-08T08:58:25.506973",
     "status": "completed"
    },
    "tags": []
   },
   "outputs": [
    {
     "name": "stdout",
     "output_type": "stream",
     "text": [
      "/kaggle/input/cancer-prediction/labeled_cancer_drugs.csv\n",
      "/kaggle/input/cancer-prediction/__results__.html\n",
      "/kaggle/input/cancer-prediction/__notebook__.ipynb\n",
      "/kaggle/input/cancer-prediction/__output__.json\n",
      "/kaggle/input/cancer-prediction/custom.css\n"
     ]
    }
   ],
   "source": [
    "# This Python 3 environment comes with many helpful analytics libraries installed\n",
    "# It is defined by the kaggle/python Docker image: https://github.com/kaggle/docker-python\n",
    "# For example, here's several helpful packages to load\n",
    "\n",
    "import numpy as np # linear algebra\n",
    "import pandas as pd # data processing, CSV file I/O (e.g. pd.read_csv)\n",
    "\n",
    "# Input data files are available in the read-only \"../input/\" directory\n",
    "# For example, running this (by clicking run or pressing Shift+Enter) will list all files under the input directory\n",
    "\n",
    "import os\n",
    "for dirname, _, filenames in os.walk('/kaggle/input'):\n",
    "    for filename in filenames:\n",
    "        print(os.path.join(dirname, filename))\n",
    "\n",
    "# You can write up to 20GB to the current directory (/kaggle/working/) that gets preserved as output when you create a version using \"Save & Run All\" \n",
    "# You can also write temporary files to /kaggle/temp/, but they won't be saved outside of the current session"
   ]
  },
  {
   "cell_type": "code",
   "execution_count": 2,
   "id": "12a96f84",
   "metadata": {
    "execution": {
     "iopub.execute_input": "2025-10-08T08:58:26.937051Z",
     "iopub.status.busy": "2025-10-08T08:58:26.936268Z",
     "iopub.status.idle": "2025-10-08T08:58:26.981228Z",
     "shell.execute_reply": "2025-10-08T08:58:26.980722Z"
    },
    "papermill": {
     "duration": 0.049596,
     "end_time": "2025-10-08T08:58:26.982349",
     "exception": false,
     "start_time": "2025-10-08T08:58:26.932753",
     "status": "completed"
    },
    "tags": []
   },
   "outputs": [],
   "source": [
    "df = pd.read_csv('/kaggle/input/cancer-prediction/labeled_cancer_drugs.csv')"
   ]
  },
  {
   "cell_type": "code",
   "execution_count": 3,
   "id": "f00f02af",
   "metadata": {
    "execution": {
     "iopub.execute_input": "2025-10-08T08:58:26.989277Z",
     "iopub.status.busy": "2025-10-08T08:58:26.989062Z",
     "iopub.status.idle": "2025-10-08T08:58:27.012183Z",
     "shell.execute_reply": "2025-10-08T08:58:27.011581Z"
    },
    "papermill": {
     "duration": 0.0276,
     "end_time": "2025-10-08T08:58:27.013231",
     "exception": false,
     "start_time": "2025-10-08T08:58:26.985631",
     "status": "completed"
    },
    "tags": []
   },
   "outputs": [
    {
     "data": {
      "text/html": [
       "<div>\n",
       "<style scoped>\n",
       "    .dataframe tbody tr th:only-of-type {\n",
       "        vertical-align: middle;\n",
       "    }\n",
       "\n",
       "    .dataframe tbody tr th {\n",
       "        vertical-align: top;\n",
       "    }\n",
       "\n",
       "    .dataframe thead th {\n",
       "        text-align: right;\n",
       "    }\n",
       "</style>\n",
       "<table border=\"1\" class=\"dataframe\">\n",
       "  <thead>\n",
       "    <tr style=\"text-align: right;\">\n",
       "      <th></th>\n",
       "      <th>SMILES</th>\n",
       "      <th>anti_cancer</th>\n",
       "    </tr>\n",
       "  </thead>\n",
       "  <tbody>\n",
       "    <tr>\n",
       "      <th>0</th>\n",
       "      <td>C1=CC(=C(C=C1[N+](=O)[O-])[N+](=O)[O-])Cl</td>\n",
       "      <td>0</td>\n",
       "    </tr>\n",
       "    <tr>\n",
       "      <th>1</th>\n",
       "      <td>C(CCl)Cl</td>\n",
       "      <td>0</td>\n",
       "    </tr>\n",
       "    <tr>\n",
       "      <th>2</th>\n",
       "      <td>C(CCl)O</td>\n",
       "      <td>0</td>\n",
       "    </tr>\n",
       "    <tr>\n",
       "      <th>3</th>\n",
       "      <td>CC(C)(CO)C(=O)C(=O)O</td>\n",
       "      <td>0</td>\n",
       "    </tr>\n",
       "    <tr>\n",
       "      <th>4</th>\n",
       "      <td>C1C(C(C(OC1O)CO)O)O</td>\n",
       "      <td>0</td>\n",
       "    </tr>\n",
       "    <tr>\n",
       "      <th>...</th>\n",
       "      <td>...</td>\n",
       "      <td>...</td>\n",
       "    </tr>\n",
       "    <tr>\n",
       "      <th>17922</th>\n",
       "      <td>CN1CCC[C@H]1COC2=NC3=C(CCN(C3)C4=CC=CC5=C4C(=C...</td>\n",
       "      <td>1</td>\n",
       "    </tr>\n",
       "    <tr>\n",
       "      <th>17923</th>\n",
       "      <td>CC#CC(=O)N1CCC[C@H]1C2=NC(=C3N2C=CN=C3N)C4=CC=...</td>\n",
       "      <td>1</td>\n",
       "    </tr>\n",
       "    <tr>\n",
       "      <th>17924</th>\n",
       "      <td>[OH-].[OH-].[O-][Si]12O[Si]3(O[Si](O1)(O[Si](O...</td>\n",
       "      <td>1</td>\n",
       "    </tr>\n",
       "    <tr>\n",
       "      <th>17925</th>\n",
       "      <td>CCN(C(C)C)C(=O)C1=C(C=CC(=C1)F)OC2=CN=CN=C2N3C...</td>\n",
       "      <td>1</td>\n",
       "    </tr>\n",
       "    <tr>\n",
       "      <th>17926</th>\n",
       "      <td>CC1=C(C=CC(=N1)C2=CN=C(N(C2=O)C)NC(C)C)OC3=CC(...</td>\n",
       "      <td>1</td>\n",
       "    </tr>\n",
       "  </tbody>\n",
       "</table>\n",
       "<p>17927 rows × 2 columns</p>\n",
       "</div>"
      ],
      "text/plain": [
       "                                                  SMILES  anti_cancer\n",
       "0              C1=CC(=C(C=C1[N+](=O)[O-])[N+](=O)[O-])Cl            0\n",
       "1                                               C(CCl)Cl            0\n",
       "2                                                C(CCl)O            0\n",
       "3                                   CC(C)(CO)C(=O)C(=O)O            0\n",
       "4                                    C1C(C(C(OC1O)CO)O)O            0\n",
       "...                                                  ...          ...\n",
       "17922  CN1CCC[C@H]1COC2=NC3=C(CCN(C3)C4=CC=CC5=C4C(=C...            1\n",
       "17923  CC#CC(=O)N1CCC[C@H]1C2=NC(=C3N2C=CN=C3N)C4=CC=...            1\n",
       "17924  [OH-].[OH-].[O-][Si]12O[Si]3(O[Si](O1)(O[Si](O...            1\n",
       "17925  CCN(C(C)C)C(=O)C1=C(C=CC(=C1)F)OC2=CN=CN=C2N3C...            1\n",
       "17926  CC1=C(C=CC(=N1)C2=CN=C(N(C2=O)C)NC(C)C)OC3=CC(...            1\n",
       "\n",
       "[17927 rows x 2 columns]"
      ]
     },
     "execution_count": 3,
     "metadata": {},
     "output_type": "execute_result"
    }
   ],
   "source": [
    "df"
   ]
  },
  {
   "cell_type": "code",
   "execution_count": 4,
   "id": "0eb7a068",
   "metadata": {
    "execution": {
     "iopub.execute_input": "2025-10-08T08:58:27.020282Z",
     "iopub.status.busy": "2025-10-08T08:58:27.020076Z",
     "iopub.status.idle": "2025-10-08T08:58:33.362536Z",
     "shell.execute_reply": "2025-10-08T08:58:33.361588Z"
    },
    "papermill": {
     "duration": 6.347674,
     "end_time": "2025-10-08T08:58:33.364034",
     "exception": false,
     "start_time": "2025-10-08T08:58:27.016360",
     "status": "completed"
    },
    "tags": []
   },
   "outputs": [
    {
     "name": "stdout",
     "output_type": "stream",
     "text": [
      "Collecting rdkit\r\n",
      "  Downloading rdkit-2025.9.1-cp311-cp311-manylinux_2_28_x86_64.whl.metadata (4.1 kB)\r\n",
      "Requirement already satisfied: numpy in /usr/local/lib/python3.11/dist-packages (from rdkit) (1.26.4)\r\n",
      "Requirement already satisfied: Pillow in /usr/local/lib/python3.11/dist-packages (from rdkit) (11.3.0)\r\n",
      "Requirement already satisfied: mkl_fft in /usr/local/lib/python3.11/dist-packages (from numpy->rdkit) (1.3.8)\r\n",
      "Requirement already satisfied: mkl_random in /usr/local/lib/python3.11/dist-packages (from numpy->rdkit) (1.2.4)\r\n",
      "Requirement already satisfied: mkl_umath in /usr/local/lib/python3.11/dist-packages (from numpy->rdkit) (0.1.1)\r\n",
      "Requirement already satisfied: mkl in /usr/local/lib/python3.11/dist-packages (from numpy->rdkit) (2025.2.0)\r\n",
      "Requirement already satisfied: tbb4py in /usr/local/lib/python3.11/dist-packages (from numpy->rdkit) (2022.2.0)\r\n",
      "Requirement already satisfied: mkl-service in /usr/local/lib/python3.11/dist-packages (from numpy->rdkit) (2.4.1)\r\n",
      "Requirement already satisfied: intel-openmp<2026,>=2024 in /usr/local/lib/python3.11/dist-packages (from mkl->numpy->rdkit) (2024.2.0)\r\n",
      "Requirement already satisfied: tbb==2022.* in /usr/local/lib/python3.11/dist-packages (from mkl->numpy->rdkit) (2022.2.0)\r\n",
      "Requirement already satisfied: tcmlib==1.* in /usr/local/lib/python3.11/dist-packages (from tbb==2022.*->mkl->numpy->rdkit) (1.4.0)\r\n",
      "Requirement already satisfied: intel-cmplr-lib-rt in /usr/local/lib/python3.11/dist-packages (from mkl_umath->numpy->rdkit) (2024.2.0)\r\n",
      "Requirement already satisfied: intel-cmplr-lib-ur==2024.2.0 in /usr/local/lib/python3.11/dist-packages (from intel-openmp<2026,>=2024->mkl->numpy->rdkit) (2024.2.0)\r\n",
      "Downloading rdkit-2025.9.1-cp311-cp311-manylinux_2_28_x86_64.whl (36.2 MB)\r\n",
      "\u001b[2K   \u001b[90m━━━━━━━━━━━━━━━━━━━━━━━━━━━━━━━━━━━━━━━━\u001b[0m \u001b[32m36.2/36.2 MB\u001b[0m \u001b[31m54.9 MB/s\u001b[0m eta \u001b[36m0:00:00\u001b[0m\r\n",
      "\u001b[?25hInstalling collected packages: rdkit\r\n",
      "Successfully installed rdkit-2025.9.1\r\n"
     ]
    }
   ],
   "source": [
    "!pip install rdkit"
   ]
  },
  {
   "cell_type": "code",
   "execution_count": 5,
   "id": "75a2cd90",
   "metadata": {
    "execution": {
     "iopub.execute_input": "2025-10-08T08:58:33.373059Z",
     "iopub.status.busy": "2025-10-08T08:58:33.372368Z",
     "iopub.status.idle": "2025-10-08T08:58:37.574380Z",
     "shell.execute_reply": "2025-10-08T08:58:37.573631Z"
    },
    "papermill": {
     "duration": 4.207631,
     "end_time": "2025-10-08T08:58:37.575633",
     "exception": false,
     "start_time": "2025-10-08T08:58:33.368002",
     "status": "completed"
    },
    "tags": []
   },
   "outputs": [
    {
     "name": "stdout",
     "output_type": "stream",
     "text": [
      "Collecting torch_geometric\r\n",
      "  Downloading torch_geometric-2.6.1-py3-none-any.whl.metadata (63 kB)\r\n",
      "\u001b[2K     \u001b[90m━━━━━━━━━━━━━━━━━━━━━━━━━━━━━━━━━━━━━━━━\u001b[0m \u001b[32m63.1/63.1 kB\u001b[0m \u001b[31m2.6 MB/s\u001b[0m eta \u001b[36m0:00:00\u001b[0m\r\n",
      "\u001b[?25hRequirement already satisfied: aiohttp in /usr/local/lib/python3.11/dist-packages (from torch_geometric) (3.12.15)\r\n",
      "Requirement already satisfied: fsspec in /usr/local/lib/python3.11/dist-packages (from torch_geometric) (2025.9.0)\r\n",
      "Requirement already satisfied: jinja2 in /usr/local/lib/python3.11/dist-packages (from torch_geometric) (3.1.6)\r\n",
      "Requirement already satisfied: numpy in /usr/local/lib/python3.11/dist-packages (from torch_geometric) (1.26.4)\r\n",
      "Requirement already satisfied: psutil>=5.8.0 in /usr/local/lib/python3.11/dist-packages (from torch_geometric) (7.1.0)\r\n",
      "Requirement already satisfied: pyparsing in /usr/local/lib/python3.11/dist-packages (from torch_geometric) (3.0.9)\r\n",
      "Requirement already satisfied: requests in /usr/local/lib/python3.11/dist-packages (from torch_geometric) (2.32.5)\r\n",
      "Requirement already satisfied: tqdm in /usr/local/lib/python3.11/dist-packages (from torch_geometric) (4.67.1)\r\n",
      "Requirement already satisfied: aiohappyeyeballs>=2.5.0 in /usr/local/lib/python3.11/dist-packages (from aiohttp->torch_geometric) (2.6.1)\r\n",
      "Requirement already satisfied: aiosignal>=1.4.0 in /usr/local/lib/python3.11/dist-packages (from aiohttp->torch_geometric) (1.4.0)\r\n",
      "Requirement already satisfied: attrs>=17.3.0 in /usr/local/lib/python3.11/dist-packages (from aiohttp->torch_geometric) (25.3.0)\r\n",
      "Requirement already satisfied: frozenlist>=1.1.1 in /usr/local/lib/python3.11/dist-packages (from aiohttp->torch_geometric) (1.7.0)\r\n",
      "Requirement already satisfied: multidict<7.0,>=4.5 in /usr/local/lib/python3.11/dist-packages (from aiohttp->torch_geometric) (6.6.4)\r\n",
      "Requirement already satisfied: propcache>=0.2.0 in /usr/local/lib/python3.11/dist-packages (from aiohttp->torch_geometric) (0.3.2)\r\n",
      "Requirement already satisfied: yarl<2.0,>=1.17.0 in /usr/local/lib/python3.11/dist-packages (from aiohttp->torch_geometric) (1.20.1)\r\n",
      "Requirement already satisfied: MarkupSafe>=2.0 in /usr/local/lib/python3.11/dist-packages (from jinja2->torch_geometric) (3.0.2)\r\n",
      "Requirement already satisfied: mkl_fft in /usr/local/lib/python3.11/dist-packages (from numpy->torch_geometric) (1.3.8)\r\n",
      "Requirement already satisfied: mkl_random in /usr/local/lib/python3.11/dist-packages (from numpy->torch_geometric) (1.2.4)\r\n",
      "Requirement already satisfied: mkl_umath in /usr/local/lib/python3.11/dist-packages (from numpy->torch_geometric) (0.1.1)\r\n",
      "Requirement already satisfied: mkl in /usr/local/lib/python3.11/dist-packages (from numpy->torch_geometric) (2025.2.0)\r\n",
      "Requirement already satisfied: tbb4py in /usr/local/lib/python3.11/dist-packages (from numpy->torch_geometric) (2022.2.0)\r\n",
      "Requirement already satisfied: mkl-service in /usr/local/lib/python3.11/dist-packages (from numpy->torch_geometric) (2.4.1)\r\n",
      "Requirement already satisfied: charset_normalizer<4,>=2 in /usr/local/lib/python3.11/dist-packages (from requests->torch_geometric) (3.4.3)\r\n",
      "Requirement already satisfied: idna<4,>=2.5 in /usr/local/lib/python3.11/dist-packages (from requests->torch_geometric) (3.10)\r\n",
      "Requirement already satisfied: urllib3<3,>=1.21.1 in /usr/local/lib/python3.11/dist-packages (from requests->torch_geometric) (2.5.0)\r\n",
      "Requirement already satisfied: certifi>=2017.4.17 in /usr/local/lib/python3.11/dist-packages (from requests->torch_geometric) (2025.8.3)\r\n",
      "Requirement already satisfied: typing-extensions>=4.2 in /usr/local/lib/python3.11/dist-packages (from aiosignal>=1.4.0->aiohttp->torch_geometric) (4.15.0)\r\n",
      "Requirement already satisfied: intel-openmp<2026,>=2024 in /usr/local/lib/python3.11/dist-packages (from mkl->numpy->torch_geometric) (2024.2.0)\r\n",
      "Requirement already satisfied: tbb==2022.* in /usr/local/lib/python3.11/dist-packages (from mkl->numpy->torch_geometric) (2022.2.0)\r\n",
      "Requirement already satisfied: tcmlib==1.* in /usr/local/lib/python3.11/dist-packages (from tbb==2022.*->mkl->numpy->torch_geometric) (1.4.0)\r\n",
      "Requirement already satisfied: intel-cmplr-lib-rt in /usr/local/lib/python3.11/dist-packages (from mkl_umath->numpy->torch_geometric) (2024.2.0)\r\n",
      "Requirement already satisfied: intel-cmplr-lib-ur==2024.2.0 in /usr/local/lib/python3.11/dist-packages (from intel-openmp<2026,>=2024->mkl->numpy->torch_geometric) (2024.2.0)\r\n",
      "Downloading torch_geometric-2.6.1-py3-none-any.whl (1.1 MB)\r\n",
      "\u001b[2K   \u001b[90m━━━━━━━━━━━━━━━━━━━━━━━━━━━━━━━━━━━━━━━━\u001b[0m \u001b[32m1.1/1.1 MB\u001b[0m \u001b[31m22.4 MB/s\u001b[0m eta \u001b[36m0:00:00\u001b[0m\r\n",
      "\u001b[?25hInstalling collected packages: torch_geometric\r\n",
      "Successfully installed torch_geometric-2.6.1\r\n"
     ]
    }
   ],
   "source": [
    "!pip install torch_geometric"
   ]
  },
  {
   "cell_type": "code",
   "execution_count": 6,
   "id": "6c6b43bd",
   "metadata": {
    "execution": {
     "iopub.execute_input": "2025-10-08T08:58:37.585306Z",
     "iopub.status.busy": "2025-10-08T08:58:37.585079Z",
     "iopub.status.idle": "2025-10-08T08:58:52.182527Z",
     "shell.execute_reply": "2025-10-08T08:58:52.181928Z"
    },
    "papermill": {
     "duration": 14.603742,
     "end_time": "2025-10-08T08:58:52.183956",
     "exception": false,
     "start_time": "2025-10-08T08:58:37.580214",
     "status": "completed"
    },
    "tags": []
   },
   "outputs": [],
   "source": [
    "import math, random\n",
    "from tqdm.auto import tqdm\n",
    "\n",
    "import torch\n",
    "import torch.nn as nn\n",
    "import torch.nn.functional as F\n",
    "\n",
    "from sklearn.model_selection import train_test_split\n",
    "from sklearn.metrics import roc_auc_score\n",
    "\n",
    "from torch_geometric.data import Data, Dataset\n",
    "from torch_geometric.loader import DataLoader\n",
    "from torch_geometric.nn import GINConv, global_mean_pool\n",
    "\n",
    "from rdkit import Chem\n",
    "from rdkit.Chem import rdchem\n",
    "from rdkit.Chem.rdchem import HybridizationType\n",
    "from rdkit import Chem"
   ]
  },
  {
   "cell_type": "code",
   "execution_count": 7,
   "id": "889d6060",
   "metadata": {
    "execution": {
     "iopub.execute_input": "2025-10-08T08:58:52.193134Z",
     "iopub.status.busy": "2025-10-08T08:58:52.192758Z",
     "iopub.status.idle": "2025-10-08T08:58:52.203127Z",
     "shell.execute_reply": "2025-10-08T08:58:52.202495Z"
    },
    "papermill": {
     "duration": 0.015877,
     "end_time": "2025-10-08T08:58:52.204092",
     "exception": false,
     "start_time": "2025-10-08T08:58:52.188215",
     "status": "completed"
    },
    "tags": []
   },
   "outputs": [
    {
     "name": "stdout",
     "output_type": "stream",
     "text": [
      "Device: cuda\n"
     ]
    }
   ],
   "source": [
    "def seed_everything(seed=42):\n",
    "    random.seed(seed); np.random.seed(seed)\n",
    "    torch.manual_seed(seed); torch.cuda.manual_seed_all(seed)\n",
    "    torch.backends.cudnn.deterministic = True\n",
    "    torch.backends.cudnn.benchmark = False\n",
    "    \n",
    "seed_everything(42)\n",
    "device = torch.device(\"cuda\" if torch.cuda.is_available() else \"cpu\")\n",
    "print(\"Device:\", device)"
   ]
  },
  {
   "cell_type": "code",
   "execution_count": 8,
   "id": "9c717b8a",
   "metadata": {
    "execution": {
     "iopub.execute_input": "2025-10-08T08:58:52.212969Z",
     "iopub.status.busy": "2025-10-08T08:58:52.212481Z",
     "iopub.status.idle": "2025-10-08T08:58:52.215786Z",
     "shell.execute_reply": "2025-10-08T08:58:52.215281Z"
    },
    "papermill": {
     "duration": 0.008737,
     "end_time": "2025-10-08T08:58:52.216866",
     "exception": false,
     "start_time": "2025-10-08T08:58:52.208129",
     "status": "completed"
    },
    "tags": []
   },
   "outputs": [],
   "source": [
    "ATOM_LIST = list(range(1, 119))  \n",
    "HYB_SET = [\n",
    "    HybridizationType.SP, HybridizationType.SP2, HybridizationType.SP3,\n",
    "    HybridizationType.SP3D, HybridizationType.SP3D2\n",
    "]"
   ]
  },
  {
   "cell_type": "code",
   "execution_count": 9,
   "id": "979f6624",
   "metadata": {
    "execution": {
     "iopub.execute_input": "2025-10-08T08:58:52.225406Z",
     "iopub.status.busy": "2025-10-08T08:58:52.225225Z",
     "iopub.status.idle": "2025-10-08T08:58:52.231248Z",
     "shell.execute_reply": "2025-10-08T08:58:52.230679Z"
    },
    "papermill": {
     "duration": 0.011365,
     "end_time": "2025-10-08T08:58:52.232174",
     "exception": false,
     "start_time": "2025-10-08T08:58:52.220809",
     "status": "completed"
    },
    "tags": []
   },
   "outputs": [],
   "source": [
    "def one_hot(value, choices, allow_unknown=True):\n",
    "    vec = [0]*len(choices)\n",
    "    try:\n",
    "        idx = choices.index(value)\n",
    "        vec[idx] = 1\n",
    "    except ValueError:\n",
    "        if not allow_unknown:\n",
    "            raise\n",
    "    return vec\n",
    "\n",
    "def atom_features(atom: rdchem.Atom):\n",
    "    z = atom.GetAtomicNum()\n",
    "    feats = []\n",
    "    feats += one_hot(z, ATOM_LIST)                      # 原子番号 one-hot\n",
    "    feats += one_hot(atom.GetHybridization(), HYB_SET)  # 混成軌道\n",
    "    feats += [\n",
    "        atom.GetTotalDegree(),                          # 次数\n",
    "        atom.GetFormalCharge(),                         # 形式電荷\n",
    "        int(atom.GetIsAromatic()),                      # 芳香族\n",
    "        atom.GetTotalNumHs()                            # H数\n",
    "    ]\n",
    "    return torch.tensor(feats, dtype=torch.float)\n",
    "\n",
    "def bond_features(bond: rdchem.Bond):\n",
    "    bt = bond.GetBondType()\n",
    "    feats = [\n",
    "        int(bt == rdchem.BondType.SINGLE),\n",
    "        int(bt == rdchem.BondType.DOUBLE),\n",
    "        int(bt == rdchem.BondType.TRIPLE),\n",
    "        int(bt == rdchem.BondType.AROMATIC),\n",
    "        int(bond.GetIsConjugated()),\n",
    "        int(bond.IsInRing()),\n",
    "    ]\n",
    "    return torch.tensor(feats, dtype=torch.float)\n",
    "\n"
   ]
  },
  {
   "cell_type": "code",
   "execution_count": 10,
   "id": "63c9feff",
   "metadata": {
    "execution": {
     "iopub.execute_input": "2025-10-08T08:58:52.240952Z",
     "iopub.status.busy": "2025-10-08T08:58:52.240678Z",
     "iopub.status.idle": "2025-10-08T08:58:52.244951Z",
     "shell.execute_reply": "2025-10-08T08:58:52.244412Z"
    },
    "papermill": {
     "duration": 0.009872,
     "end_time": "2025-10-08T08:58:52.245949",
     "exception": false,
     "start_time": "2025-10-08T08:58:52.236077",
     "status": "completed"
    },
    "tags": []
   },
   "outputs": [],
   "source": [
    "def safe_mol_from_smiles(smi: str):\n",
    "    if not isinstance(smi, str) or not smi:\n",
    "        return None\n",
    "    try:\n",
    "        m = Chem.MolFromSmiles(smi, sanitize=False)\n",
    "        if m is None:\n",
    "            return None\n",
    "        flags = Chem.SanitizeFlags.SANITIZE_ALL ^ Chem.SanitizeFlags.SANITIZE_ADJUSTHS\n",
    "        Chem.SanitizeMol(m, sanitizeOps=flags)\n",
    "        return m\n",
    "    except Exception:\n",
    "        return None"
   ]
  },
  {
   "cell_type": "code",
   "execution_count": 11,
   "id": "dd308234",
   "metadata": {
    "execution": {
     "iopub.execute_input": "2025-10-08T08:58:52.254664Z",
     "iopub.status.busy": "2025-10-08T08:58:52.254209Z",
     "iopub.status.idle": "2025-10-08T08:58:52.259869Z",
     "shell.execute_reply": "2025-10-08T08:58:52.259308Z"
    },
    "papermill": {
     "duration": 0.011087,
     "end_time": "2025-10-08T08:58:52.260905",
     "exception": false,
     "start_time": "2025-10-08T08:58:52.249818",
     "status": "completed"
    },
    "tags": []
   },
   "outputs": [],
   "source": [
    "def smiles_to_data(smiles: str, y: int | float | None = None):\n",
    "    mol = safe_mol_from_smiles(smiles)\n",
    "    if mol is None:\n",
    "        return None\n",
    "\n",
    "    #ノード特徴量\n",
    "    xs = [atom_features(a) for a in mol.GetAtoms()]\n",
    "    x = torch.stack(xs, dim=0) if xs else torch.zeros((0, 8), dtype=torch.float)\n",
    "\n",
    "    #エッジ\n",
    "    edge_index_list = []\n",
    "    edge_attr_list = []\n",
    "    for b in mol.GetBonds():\n",
    "        i, j = b.GetBeginAtomIdx(), b.GetEndAtomIdx()\n",
    "        bf = bond_features(b)\n",
    "        edge_index_list += [[i, j], [j, i]]\n",
    "        edge_attr_list += [bf, bf]\n",
    "    if edge_index_list:\n",
    "        edge_index = torch.tensor(edge_index_list, dtype=torch.long).t().contiguous()\n",
    "        edge_attr  = torch.stack(edge_attr_list, dim=0)\n",
    "    else:\n",
    "        edge_index = torch.zeros((2,0), dtype=torch.long)\n",
    "        edge_attr  = torch.zeros((0,6), dtype=torch.float)\n",
    "\n",
    "    data = Data(x=x, edge_index=edge_index, edge_attr=edge_attr)\n",
    "    if y is not None:\n",
    "        data.y = torch.tensor([float(y)], dtype=torch.float)\n",
    "    data.smiles = smiles\n",
    "    return data\n"
   ]
  },
  {
   "cell_type": "code",
   "execution_count": 12,
   "id": "47a9ddcd",
   "metadata": {
    "execution": {
     "iopub.execute_input": "2025-10-08T08:58:52.269436Z",
     "iopub.status.busy": "2025-10-08T08:58:52.269070Z",
     "iopub.status.idle": "2025-10-08T08:58:52.274479Z",
     "shell.execute_reply": "2025-10-08T08:58:52.273949Z"
    },
    "papermill": {
     "duration": 0.010823,
     "end_time": "2025-10-08T08:58:52.275607",
     "exception": false,
     "start_time": "2025-10-08T08:58:52.264784",
     "status": "completed"
    },
    "tags": []
   },
   "outputs": [],
   "source": [
    "class SmilesDataset(Dataset):\n",
    "    def __init__(self, df: pd.DataFrame):\n",
    "        super().__init__()\n",
    "        self.df = df.reset_index(drop=True)\n",
    "        self.cache = {}\n",
    "\n",
    "    def len(self):\n",
    "        return len(self.df)\n",
    "\n",
    "    def get(self, idx):\n",
    "        if idx in self.cache:\n",
    "            return self.cache[idx]\n",
    "        row = self.df.iloc[idx]\n",
    "        d = smiles_to_data(row['SMILES'], row.get('anti_cancer', None))\n",
    "        if d is None:\n",
    "            d = Data(x=torch.zeros((1, len(ATOM_LIST)+len(HYB_SET)+3), dtype=torch.float),\n",
    "                     edge_index=torch.zeros((2,0), dtype=torch.long),\n",
    "                     edge_attr=torch.zeros((0,6), dtype=torch.float),\n",
    "                     y=torch.tensor([0.0], dtype=torch.float))\n",
    "            d.invalid = True\n",
    "        self.cache[idx] = d\n",
    "        return d"
   ]
  },
  {
   "cell_type": "code",
   "execution_count": 13,
   "id": "594da8ea",
   "metadata": {
    "execution": {
     "iopub.execute_input": "2025-10-08T08:58:52.284165Z",
     "iopub.status.busy": "2025-10-08T08:58:52.283712Z",
     "iopub.status.idle": "2025-10-08T08:58:52.289234Z",
     "shell.execute_reply": "2025-10-08T08:58:52.288551Z"
    },
    "papermill": {
     "duration": 0.010851,
     "end_time": "2025-10-08T08:58:52.290337",
     "exception": false,
     "start_time": "2025-10-08T08:58:52.279486",
     "status": "completed"
    },
    "tags": []
   },
   "outputs": [],
   "source": [
    "class GINNet(nn.Module):\n",
    "    def __init__(self, in_dim, hidden=128, num_layers=3, dropout=0.2):\n",
    "        super().__init__()\n",
    "        self.dropout = dropout\n",
    "\n",
    "        mlps = []\n",
    "        last = in_dim\n",
    "        for _ in range(num_layers):\n",
    "            mlp = nn.Sequential(\n",
    "                nn.Linear(last, hidden),\n",
    "                nn.ReLU(),\n",
    "                nn.Linear(hidden, hidden),\n",
    "            )\n",
    "            mlps.append(GINConv(mlp))\n",
    "            last = hidden\n",
    "        self.gin_layers = nn.ModuleList(mlps)\n",
    "        self.lin_out = nn.Linear(hidden, 1)\n",
    "\n",
    "    def forward(self, data):\n",
    "        x, edge_index = data.x, data.edge_index\n",
    "        for conv in self.gin_layers:\n",
    "            x = conv(x, edge_index)\n",
    "            x = F.relu(x)\n",
    "            x = F.dropout(x, p=self.dropout, training=self.training)\n",
    "        x = global_mean_pool(x, data.batch)\n",
    "        logit = self.lin_out(x).squeeze(-1)\n",
    "        return logit\n"
   ]
  },
  {
   "cell_type": "code",
   "execution_count": 14,
   "id": "88b0a202",
   "metadata": {
    "execution": {
     "iopub.execute_input": "2025-10-08T08:58:52.299205Z",
     "iopub.status.busy": "2025-10-08T08:58:52.298620Z",
     "iopub.status.idle": "2025-10-08T08:58:52.310301Z",
     "shell.execute_reply": "2025-10-08T08:58:52.309465Z"
    },
    "papermill": {
     "duration": 0.017088,
     "end_time": "2025-10-08T08:58:52.311419",
     "exception": false,
     "start_time": "2025-10-08T08:58:52.294331",
     "status": "completed"
    },
    "tags": []
   },
   "outputs": [
    {
     "name": "stdout",
     "output_type": "stream",
     "text": [
      "Samples: 17927  PosRatio: 0.015\n"
     ]
    }
   ],
   "source": [
    "assert 'SMILES' in df.columns and 'anti_cancer' in df.columns\n",
    "df = df.dropna(subset=['SMILES', 'anti_cancer']).reset_index(drop=True)\n",
    "df['anti_cancer'] = df['anti_cancer'].astype(int)\n",
    "\n",
    "y_np = df['anti_cancer'].values\n",
    "pos_ratio = y_np.mean()\n",
    "print(f\"Samples: {len(df)}  PosRatio: {pos_ratio:.3f}\")"
   ]
  },
  {
   "cell_type": "code",
   "execution_count": 15,
   "id": "adbe306e",
   "metadata": {
    "execution": {
     "iopub.execute_input": "2025-10-08T08:58:52.319869Z",
     "iopub.status.busy": "2025-10-08T08:58:52.319660Z",
     "iopub.status.idle": "2025-10-08T08:58:52.586099Z",
     "shell.execute_reply": "2025-10-08T08:58:52.585307Z"
    },
    "papermill": {
     "duration": 0.272077,
     "end_time": "2025-10-08T08:58:52.587382",
     "exception": false,
     "start_time": "2025-10-08T08:58:52.315305",
     "status": "completed"
    },
    "tags": []
   },
   "outputs": [
    {
     "name": "stdout",
     "output_type": "stream",
     "text": [
      "Using pos_weight=65.70\n"
     ]
    },
    {
     "name": "stderr",
     "output_type": "stream",
     "text": [
      "/usr/local/lib/python3.11/dist-packages/torch/optim/lr_scheduler.py:62: UserWarning: The verbose parameter is deprecated. Please use get_last_lr() to access the learning rate.\n",
      "  warnings.warn(\n"
     ]
    }
   ],
   "source": [
    "tr_idx, va_idx = train_test_split(\n",
    "    np.arange(len(df)),\n",
    "    test_size=0.2,\n",
    "    stratify=df['anti_cancer'],\n",
    "    random_state=42\n",
    ")\n",
    "df_tr, df_va = df.iloc[tr_idx].copy(), df.iloc[va_idx].copy()\n",
    "\n",
    "train_ds = SmilesDataset(df_tr)\n",
    "valid_ds = SmilesDataset(df_va)\n",
    "\n",
    "tmp = train_ds.get(0)\n",
    "in_dim = tmp.x.shape[1]\n",
    "\n",
    "train_loader = DataLoader(train_ds, batch_size=64, shuffle=True)\n",
    "valid_loader = DataLoader(valid_ds, batch_size=128, shuffle=False)\n",
    "\n",
    "model = GINNet(in_dim=in_dim, hidden=128, num_layers=3, dropout=0.2).to(device)\n",
    "\n",
    "pos_weight = None\n",
    "pos_frac = df_tr['anti_cancer'].mean()\n",
    "if 0 < pos_frac < 1:\n",
    "    pw = (1 - pos_frac) / max(pos_frac, 1e-6)\n",
    "    pos_weight = torch.tensor([pw], dtype=torch.float, device=device)\n",
    "    print(f\"Using pos_weight={pw:.2f}\")\n",
    "\n",
    "criterion = nn.BCEWithLogitsLoss(pos_weight=pos_weight) if pos_weight is not None \\\n",
    "            else nn.BCEWithLogitsLoss()\n",
    "\n",
    "optimizer = torch.optim.AdamW(model.parameters(), lr=2e-3, weight_decay=1e-4)\n",
    "scheduler = torch.optim.lr_scheduler.ReduceLROnPlateau(optimizer, mode='max', factor=0.5, patience=3, verbose=True)\n"
   ]
  },
  {
   "cell_type": "code",
   "execution_count": 16,
   "id": "246b018a",
   "metadata": {
    "execution": {
     "iopub.execute_input": "2025-10-08T08:58:52.596701Z",
     "iopub.status.busy": "2025-10-08T08:58:52.596460Z",
     "iopub.status.idle": "2025-10-08T08:58:52.601253Z",
     "shell.execute_reply": "2025-10-08T08:58:52.600734Z"
    },
    "papermill": {
     "duration": 0.010664,
     "end_time": "2025-10-08T08:58:52.602354",
     "exception": false,
     "start_time": "2025-10-08T08:58:52.591690",
     "status": "completed"
    },
    "tags": []
   },
   "outputs": [],
   "source": [
    "def evaluate(loader):\n",
    "    model.eval()\n",
    "    logits_all, ys_all = [], []\n",
    "    with torch.no_grad():\n",
    "        for batch in loader:\n",
    "            batch = batch.to(device)\n",
    "            out = model(batch)\n",
    "            logits_all.append(out.detach().cpu())\n",
    "            ys_all.append(batch.y.detach().cpu().view(-1))\n",
    "    logits = torch.cat(logits_all).numpy()\n",
    "    ys = torch.cat(ys_all).numpy()\n",
    "    probs = 1 / (1 + np.exp(-logits))\n",
    "    try:\n",
    "        auc = roc_auc_score(ys, probs)\n",
    "    except ValueError:\n",
    "        auc = float('nan')\n",
    "    preds = (probs >= 0.5).astype(int)\n",
    "    return {'auc': auc}\n",
    "\n"
   ]
  },
  {
   "cell_type": "code",
   "execution_count": 17,
   "id": "f4972929",
   "metadata": {
    "execution": {
     "iopub.execute_input": "2025-10-08T08:58:52.611342Z",
     "iopub.status.busy": "2025-10-08T08:58:52.610939Z",
     "iopub.status.idle": "2025-10-08T08:58:52.614088Z",
     "shell.execute_reply": "2025-10-08T08:58:52.613567Z"
    },
    "papermill": {
     "duration": 0.00869,
     "end_time": "2025-10-08T08:58:52.615100",
     "exception": false,
     "start_time": "2025-10-08T08:58:52.606410",
     "status": "completed"
    },
    "tags": []
   },
   "outputs": [],
   "source": [
    "best_auc = -1\n",
    "best_state = None\n",
    "patience, wait = 10, 0\n",
    "EPOCHS = 50"
   ]
  },
  {
   "cell_type": "code",
   "execution_count": 18,
   "id": "ffb2e21a",
   "metadata": {
    "execution": {
     "iopub.execute_input": "2025-10-08T08:58:52.623988Z",
     "iopub.status.busy": "2025-10-08T08:58:52.623514Z",
     "iopub.status.idle": "2025-10-08T08:59:54.146195Z",
     "shell.execute_reply": "2025-10-08T08:59:54.145085Z"
    },
    "papermill": {
     "duration": 61.528507,
     "end_time": "2025-10-08T08:59:54.147571",
     "exception": false,
     "start_time": "2025-10-08T08:58:52.619064",
     "status": "completed"
    },
    "tags": []
   },
   "outputs": [
    {
     "name": "stdout",
     "output_type": "stream",
     "text": [
      "Epoch 01 | loss 1.3676 | val AUC 0.5197 \n"
     ]
    },
    {
     "name": "stderr",
     "output_type": "stream",
     "text": [
      "/tmp/ipykernel_19/3805064166.py:12: RuntimeWarning: overflow encountered in exp\n",
      "  probs = 1 / (1 + np.exp(-logits))\n"
     ]
    },
    {
     "name": "stdout",
     "output_type": "stream",
     "text": [
      "Epoch 02 | loss 1.9086 | val AUC 0.5611 \n",
      "Epoch 03 | loss 1.5696 | val AUC 0.5465 \n",
      "Epoch 04 | loss 1.5592 | val AUC 0.5492 \n"
     ]
    },
    {
     "name": "stderr",
     "output_type": "stream",
     "text": [
      "/tmp/ipykernel_19/3805064166.py:12: RuntimeWarning: overflow encountered in exp\n",
      "  probs = 1 / (1 + np.exp(-logits))\n"
     ]
    },
    {
     "name": "stdout",
     "output_type": "stream",
     "text": [
      "Epoch 05 | loss 1.4917 | val AUC 0.5572 \n"
     ]
    },
    {
     "name": "stderr",
     "output_type": "stream",
     "text": [
      "/tmp/ipykernel_19/3805064166.py:12: RuntimeWarning: overflow encountered in exp\n",
      "  probs = 1 / (1 + np.exp(-logits))\n"
     ]
    },
    {
     "name": "stdout",
     "output_type": "stream",
     "text": [
      "Epoch 06 | loss 3.4030 | val AUC 0.5054 \n"
     ]
    },
    {
     "name": "stderr",
     "output_type": "stream",
     "text": [
      "/tmp/ipykernel_19/3805064166.py:12: RuntimeWarning: overflow encountered in exp\n",
      "  probs = 1 / (1 + np.exp(-logits))\n"
     ]
    },
    {
     "name": "stdout",
     "output_type": "stream",
     "text": [
      "Epoch 07 | loss 1.5672 | val AUC 0.5069 \n"
     ]
    },
    {
     "name": "stderr",
     "output_type": "stream",
     "text": [
      "/tmp/ipykernel_19/3805064166.py:12: RuntimeWarning: overflow encountered in exp\n",
      "  probs = 1 / (1 + np.exp(-logits))\n"
     ]
    },
    {
     "name": "stdout",
     "output_type": "stream",
     "text": [
      "Epoch 08 | loss 1.5403 | val AUC 0.5115 \n"
     ]
    },
    {
     "name": "stderr",
     "output_type": "stream",
     "text": [
      "/tmp/ipykernel_19/3805064166.py:12: RuntimeWarning: overflow encountered in exp\n",
      "  probs = 1 / (1 + np.exp(-logits))\n"
     ]
    },
    {
     "name": "stdout",
     "output_type": "stream",
     "text": [
      "Epoch 09 | loss 1.9490 | val AUC 0.5441 \n"
     ]
    },
    {
     "name": "stderr",
     "output_type": "stream",
     "text": [
      "/tmp/ipykernel_19/3805064166.py:12: RuntimeWarning: overflow encountered in exp\n",
      "  probs = 1 / (1 + np.exp(-logits))\n"
     ]
    },
    {
     "name": "stdout",
     "output_type": "stream",
     "text": [
      "Epoch 10 | loss 1.9711 | val AUC 0.5404 \n"
     ]
    },
    {
     "name": "stderr",
     "output_type": "stream",
     "text": [
      "/tmp/ipykernel_19/3805064166.py:12: RuntimeWarning: overflow encountered in exp\n",
      "  probs = 1 / (1 + np.exp(-logits))\n"
     ]
    },
    {
     "name": "stdout",
     "output_type": "stream",
     "text": [
      "Epoch 11 | loss 1.5631 | val AUC 0.5279 \n",
      "Epoch 12 | loss 1.6000 | val AUC 0.5540 \n",
      "Early stopping.\n",
      "Best val AUC: 0.5611105868042449\n"
     ]
    },
    {
     "name": "stderr",
     "output_type": "stream",
     "text": [
      "/tmp/ipykernel_19/3805064166.py:12: RuntimeWarning: overflow encountered in exp\n",
      "  probs = 1 / (1 + np.exp(-logits))\n"
     ]
    }
   ],
   "source": [
    "for epoch in range(1, EPOCHS+1):\n",
    "    model.train()\n",
    "    losses = []\n",
    "    for batch in train_loader:\n",
    "        batch = batch.to(device)\n",
    "        optimizer.zero_grad()\n",
    "        logits = model(batch)\n",
    "        loss = criterion(logits, batch.y.view(-1))\n",
    "        loss.backward()\n",
    "        nn.utils.clip_grad_norm_(model.parameters(), 5.0)\n",
    "        optimizer.step()\n",
    "        losses.append(loss.item())\n",
    "\n",
    "    val_metrics = evaluate(valid_loader)\n",
    "    scheduler.step(val_metrics['auc'])\n",
    "    print(f\"Epoch {epoch:02d} | loss {np.mean(losses):.4f} | \"\n",
    "          f\"val AUC {val_metrics['auc']:.4f} \")\n",
    "\n",
    "    if val_metrics['auc'] > best_auc:\n",
    "        best_auc = val_metrics['auc']\n",
    "        best_state = {k: v.cpu().clone() for k, v in model.state_dict().items()}\n",
    "        wait = 0\n",
    "    else:\n",
    "        wait += 1\n",
    "        if wait >= patience:\n",
    "            print(\"Early stopping.\")\n",
    "            break\n",
    "\n",
    "if best_state is not None:\n",
    "    model.load_state_dict(best_state)\n",
    "print(\"Best val AUC:\", best_auc)"
   ]
  }
 ],
 "metadata": {
  "kaggle": {
   "accelerator": "nvidiaTeslaT4",
   "dataSources": [
    {
     "sourceId": 266305861,
     "sourceType": "kernelVersion"
    }
   ],
   "dockerImageVersionId": 31154,
   "isGpuEnabled": true,
   "isInternetEnabled": true,
   "language": "python",
   "sourceType": "notebook"
  },
  "kernelspec": {
   "display_name": "Python 3",
   "language": "python",
   "name": "python3"
  },
  "language_info": {
   "codemirror_mode": {
    "name": "ipython",
    "version": 3
   },
   "file_extension": ".py",
   "mimetype": "text/x-python",
   "name": "python",
   "nbconvert_exporter": "python",
   "pygments_lexer": "ipython3",
   "version": "3.11.13"
  },
  "papermill": {
   "default_parameters": {},
   "duration": 95.041638,
   "end_time": "2025-10-08T08:59:56.747964",
   "environment_variables": {},
   "exception": null,
   "input_path": "__notebook__.ipynb",
   "output_path": "__notebook__.ipynb",
   "parameters": {},
   "start_time": "2025-10-08T08:58:21.706326",
   "version": "2.6.0"
  }
 },
 "nbformat": 4,
 "nbformat_minor": 5
}
